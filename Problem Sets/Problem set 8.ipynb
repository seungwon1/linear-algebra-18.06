{
 "cells": [
  {
   "cell_type": "code",
   "execution_count": 1,
   "metadata": {},
   "outputs": [],
   "source": [
    "from scipy.linalg import hilbert\n",
    "import numpy as np\n",
    "from sympy import *\n",
    "from sympy import Matrix\n",
    "A = [[2, 3, 5], [-4, 2, 3], [0, 0, 0]]\n",
    ">>> A = Matrix(A)\n",
    ">>> A * A.nullspace()[0]"
   ]
  },
  {
   "cell_type": "code",
   "execution_count": 42,
   "metadata": {},
   "outputs": [
    {
     "data": {
      "text/plain": [
       "array([[0.4, 0.2, 0.3],\n",
       "       [0.2, 0.4, 0.3],\n",
       "       [0.4, 0.4, 0.4]])"
      ]
     },
     "execution_count": 42,
     "metadata": {},
     "output_type": "execute_result"
    }
   ],
   "source": [
    "A = np.array([[4, 2, 3], [2,4,3,],[4,4,4]])\n",
    "A = 0.1 * A\n",
    "A"
   ]
  },
  {
   "cell_type": "code",
   "execution_count": 21,
   "metadata": {},
   "outputs": [],
   "source": [
    "lamb1 = eye(3)\n",
    "lamb2 = 0.2 * eye(3) \n",
    "lamb3 = 0"
   ]
  },
  {
   "cell_type": "code",
   "execution_count": 24,
   "metadata": {},
   "outputs": [],
   "source": [
    "A1 = Matrix(A-lamb1)\n",
    "A2 = Matrix(A-lamb2)\n",
    "A3 = Matrix(A-lamb3)"
   ]
  },
  {
   "cell_type": "code",
   "execution_count": 38,
   "metadata": {},
   "outputs": [
    {
     "name": "stdout",
     "output_type": "stream",
     "text": [
      "[]\n",
      "[Matrix([\n",
      "[-1.0],\n",
      "[   1],\n",
      "[   0]])]\n",
      "[Matrix([\n",
      "[-0.5],\n",
      "[-0.5],\n",
      "[   1]])]\n"
     ]
    }
   ],
   "source": [
    "print(A1.nullspace())\n",
    "print(A2.nullspace())\n",
    "print(A3.nullspace())"
   ]
  },
  {
   "cell_type": "code",
   "execution_count": 62,
   "metadata": {},
   "outputs": [
    {
     "name": "stdout",
     "output_type": "stream",
     "text": [
      "[[0.3 0.3 0.3]\n",
      " [0.3 0.3 0.3]\n",
      " [0.4 0.4 0.4]]\n"
     ]
    }
   ],
   "source": [
    "for i in range(100):\n",
    "    if i == 0:\n",
    "        U = np.dot(A,A)\n",
    "    else:\n",
    "        U = np.dot(U,A)\n",
    "        \n",
    "print(U)\n",
    "    \n",
    "               "
   ]
  },
  {
   "cell_type": "code",
   "execution_count": null,
   "metadata": {},
   "outputs": [],
   "source": [
    "\n",
    "\n"
   ]
  }
 ],
 "metadata": {
  "kernelspec": {
   "display_name": "Python 3",
   "language": "python",
   "name": "python3"
  },
  "language_info": {
   "codemirror_mode": {
    "name": "ipython",
    "version": 3
   },
   "file_extension": ".py",
   "mimetype": "text/x-python",
   "name": "python",
   "nbconvert_exporter": "python",
   "pygments_lexer": "ipython3",
   "version": "3.6.6"
  }
 },
 "nbformat": 4,
 "nbformat_minor": 2
}
