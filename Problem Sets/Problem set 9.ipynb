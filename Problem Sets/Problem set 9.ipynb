{
 "cells": [
  {
   "cell_type": "code",
   "execution_count": 8,
   "metadata": {},
   "outputs": [],
   "source": [
    "from scipy.sparse import diags\n",
    "import numpy as np\n",
    "from numpy import linalg as LA"
   ]
  },
  {
   "cell_type": "code",
   "execution_count": 38,
   "metadata": {},
   "outputs": [
    {
     "name": "stdout",
     "output_type": "stream",
     "text": [
      "5 by 5 matrix from 6.5 D \n",
      " K \n",
      "=  [[ 2. -1.  0.  0.  0.]\n",
      " [-1.  2. -1.  0.  0.]\n",
      " [ 0. -1.  2. -1.  0.]\n",
      " [ 0.  0. -1.  2. -1.]\n",
      " [ 0.  0.  0. -1.  2.]]\n",
      "\n",
      " eigenvalues of K \n",
      " lambda =  [3.73205081 3.         2.         0.26794919 1.        ]\n",
      "  * trace of K =  9.999999999999998\n",
      "  * product of eigenvalues (det) =  5.999999999999987\n",
      " \n",
      "\n",
      " eigenvectors of K \n",
      " s = \n",
      " [[ 2.88675135e-01  5.00000000e-01  5.77350269e-01  2.88675135e-01\n",
      "  -5.00000000e-01]\n",
      " [-5.00000000e-01 -5.00000000e-01 -8.85199041e-17  5.00000000e-01\n",
      "  -5.00000000e-01]\n",
      " [ 5.77350269e-01  1.92938494e-15 -5.77350269e-01  5.77350269e-01\n",
      "   1.09260986e-16]\n",
      " [-5.00000000e-01  5.00000000e-01 -3.97217852e-16  5.00000000e-01\n",
      "   5.00000000e-01]\n",
      " [ 2.88675135e-01 -5.00000000e-01  5.77350269e-01  2.88675135e-01\n",
      "   5.00000000e-01]]\n",
      "\n",
      " KS \n",
      " =  [[ 1.07735027e+00  1.50000000e+00  1.15470054e+00  7.73502692e-02\n",
      "  -5.00000000e-01]\n",
      " [-1.86602540e+00 -1.50000000e+00  1.11022302e-16  1.33974596e-01\n",
      "  -5.00000000e-01]\n",
      " [ 2.15470054e+00  7.16093851e-15 -1.15470054e+00  1.54700538e-01\n",
      "   3.88578059e-16]\n",
      " [-1.86602540e+00  1.50000000e+00 -1.22124533e-15  1.33974596e-01\n",
      "   5.00000000e-01]\n",
      " [ 1.07735027e+00 -1.50000000e+00  1.15470054e+00  7.73502692e-02\n",
      "   5.00000000e-01]]\n"
     ]
    }
   ],
   "source": [
    "# Problem 6.5 : 34\n",
    "\n",
    "K = diags([-1, 2, -1], [-1, 0, 1], shape=(5, 5)).toarray()\n",
    "print('5 by 5 matrix from 6.5 D \\n K \\n= ', K)\n",
    "\n",
    "l, s = LA.eig(K)\n",
    "print('\\n eigenvalues of K \\n lambda = ', l)\n",
    "trace = np.sum(l)\n",
    "print('  * trace of K = ', trace)\n",
    "\n",
    "const = 1\n",
    "for i in l:\n",
    "    const = const * i\n",
    "    det = const\n",
    "    \n",
    "print('  * product of eigenvalues (det) = ', det)    \n",
    "    \n",
    "print(' ')\n",
    "\n",
    "print('\\n eigenvectors of K \\n s = \\n', s)\n",
    "\n",
    "KS = np.matmul(K, s)\n",
    "print('\\n KS \\n = ', KS)\n"
   ]
  },
  {
   "cell_type": "code",
   "execution_count": null,
   "metadata": {},
   "outputs": [],
   "source": []
  }
 ],
 "metadata": {
  "kernelspec": {
   "display_name": "Python 3",
   "language": "python",
   "name": "python3"
  },
  "language_info": {
   "codemirror_mode": {
    "name": "ipython",
    "version": 3
   },
   "file_extension": ".py",
   "mimetype": "text/x-python",
   "name": "python",
   "nbconvert_exporter": "python",
   "pygments_lexer": "ipython3",
   "version": "3.6.6"
  }
 },
 "nbformat": 4,
 "nbformat_minor": 2
}
