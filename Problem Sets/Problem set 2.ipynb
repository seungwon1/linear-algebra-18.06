{
 "cells": [
  {
   "cell_type": "code",
   "execution_count": 32,
   "metadata": {
    "collapsed": true
   },
   "outputs": [],
   "source": [
    "from scipy.linalg import toeplitz\n",
    "import scipy.linalg \n",
    "from numpy.linalg import inv"
   ]
  },
  {
   "cell_type": "code",
   "execution_count": 33,
   "metadata": {},
   "outputs": [
    {
     "name": "stdout",
     "output_type": "stream",
     "text": [
      "[[1.         0.         0.         0.         0.         0.        ]\n",
      " [0.5        1.         0.         0.         0.         0.        ]\n",
      " [0.33333333 0.66666667 1.         0.         0.         0.        ]\n",
      " [0.25       0.5        0.75       1.         0.         0.        ]\n",
      " [0.2        0.4        0.6        0.8        1.         0.        ]\n",
      " [0.16666667 0.33333333 0.5        0.66666667 0.83333333 1.        ]]\n"
     ]
    }
   ],
   "source": [
    "# Chapter 2 : 2.6 - 25\n",
    "\n",
    "K = toeplitz([2,-1,0, 0, 0, 0])\n",
    "P, L, U = scipy.linalg.lu(K)\n",
    "print(inv(L))"
   ]
  },
  {
   "cell_type": "markdown",
   "metadata": {},
   "source": [
    "### inv(L)(i, j) = j/i (if i >= j)"
   ]
  }
 ],
 "metadata": {
  "kernelspec": {
   "display_name": "Python 3",
   "language": "python",
   "name": "python3"
  },
  "language_info": {
   "codemirror_mode": {
    "name": "ipython",
    "version": 3
   },
   "file_extension": ".py",
   "mimetype": "text/x-python",
   "name": "python",
   "nbconvert_exporter": "python",
   "pygments_lexer": "ipython3",
   "version": "3.6.4"
  }
 },
 "nbformat": 4,
 "nbformat_minor": 2
}
